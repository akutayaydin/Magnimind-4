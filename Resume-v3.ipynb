{
 "cells": [
  {
   "cell_type": "code",
   "execution_count": 5,
   "id": "6d886697",
   "metadata": {
    "scrolled": true
   },
   "outputs": [],
   "source": [
    "# Importing BeautifulSoup class from the bs4 module\n",
    "from bs4 import BeautifulSoup\n",
    "from os.path import isfile, join\n",
    "import os\n",
    "from pathlib import Path\n",
    "\n",
    "from nltk.tokenize import word_tokenize\n",
    "import pandas as pd\n",
    "from html.parser import HTMLParser\n",
    "import urllib\n",
    "from urllib.request import urlopen\n",
    "\n",
    "import pandas as pd\n",
    "\n",
    "#Find directory and url\n",
    "dir = str(Path.cwd()) + '/job_postings'  \n",
    "html_address ='file://' + str(Path.cwd()) + '/job_postings' \n",
    "\n",
    "#List all files under job postings folder\n",
    "onlyfiles = [f for f in os.listdir(dir) if os.path.isfile(join(dir, f))]"
   ]
  },
  {
   "cell_type": "markdown",
   "id": "eb2e41da",
   "metadata": {},
   "source": [
    "# Read All Resumes' Content and Store It In a DataFrame"
   ]
  },
  {
   "cell_type": "code",
   "execution_count": 6,
   "id": "3ee50841",
   "metadata": {
    "scrolled": false
   },
   "outputs": [
    {
     "name": "stdout",
     "output_type": "stream",
     "text": [
      "1458\n",
      "0\n"
     ]
    },
    {
     "data": {
      "text/plain": [
       "(None, None)"
      ]
     },
     "execution_count": 6,
     "metadata": {},
     "output_type": "execute_result"
    }
   ],
   "source": [
    "#Create a new DataFrame and/or clear Dataframe and content each time you run this code\n",
    "df = pd.DataFrame()\n",
    "df['JobTitle'] = ''\n",
    "df['JobTitleShort'] = ''\n",
    "df['JobDescription'] = ''\n",
    "df['Url'] = ''\n",
    "#JobDescription_String = ''\n",
    "\n",
    "counter = 0\n",
    "li_counter = 0 # Counts List Items\n",
    "\n",
    "for url in onlyfiles:\n",
    "    html_read = urllib.request.urlopen(html_address +'/'+ url).read()\n",
    "\n",
    "    # Creating a BeautifulSoup object and specifying the parser\n",
    "    Parse = BeautifulSoup(html_read, 'lxml')\n",
    "\n",
    "    df.loc[len(df.index), 'Url'] = url\n",
    "    \n",
    "    job_title = str(Parse.title.text)\n",
    "    df.loc[len(df.index)-1,'JobTitle'] = job_title\n",
    "    \n",
    "    job_title_short = str(Parse.title.text).split('-')\n",
    "    df.loc[len(df.index)-1,'JobTitleShort'] = job_title_short[0]\n",
    "    \n",
    "    # Skills and Qualifications are always listed as bullet points\n",
    "    JobDescription_String = ''\n",
    "    for tag in Parse.find_all('li'):\n",
    "        #print(f'{tag.name}: {tag.text}')\n",
    "        JobDescription_String += str(tag.text) + '.'\n",
    "        li_counter += 1\n",
    "    \n",
    "    #If there is no bullet points then try to get other text\n",
    "    if li_counter > 1:\n",
    "        df.loc[len(df.index)-1,'JobDescription'] = JobDescription_String   \n",
    "    else:\n",
    "        for counter_div, tag in enumerate(Parse.find_all('div')):\n",
    "            JobDescription_String += str(tag.text) + '.'\n",
    "            li_counter += 1\n",
    "        df.loc[len(df.index)-1,'JobDescription'] = JobDescription_String\n",
    "        \n",
    "    if li_counter == 0: \n",
    "        for tag in Parse.find_all('p'):\n",
    "            #print(f'{tag.name}: {tag.text}')\n",
    "            JobDescription_String += str(tag.text) + '.'\n",
    "            li_counter += 1\n",
    "        df.loc[len(df.index)-1,'JobDescription'] = JobDescription_String\n",
    "      \n",
    "    if li_counter == 0: \n",
    "        for tag in Parse.find_all('body'):\n",
    "            #print(f'{tag.name}: {tag.text}')\n",
    "            JobDescription_String += str(tag.text) + '.'\n",
    "            li_counter += 1\n",
    "        df.loc[len(df.index)-1,'JobDescription'] = JobDescription_String\n",
    "    \n",
    "    #Reset list counter\n",
    "    li_counter = 0\n",
    "    \n",
    "    #Count the number of resumes read\n",
    "    counter +=1\n",
    "\n",
    "print(counter),print(li_counter)"
   ]
  },
  {
   "cell_type": "code",
   "execution_count": 7,
   "id": "8c7da432",
   "metadata": {},
   "outputs": [
    {
     "data": {
      "text/html": [
       "<div>\n",
       "<style scoped>\n",
       "    .dataframe tbody tr th:only-of-type {\n",
       "        vertical-align: middle;\n",
       "    }\n",
       "\n",
       "    .dataframe tbody tr th {\n",
       "        vertical-align: top;\n",
       "    }\n",
       "\n",
       "    .dataframe thead th {\n",
       "        text-align: right;\n",
       "    }\n",
       "</style>\n",
       "<table border=\"1\" class=\"dataframe\">\n",
       "  <thead>\n",
       "    <tr style=\"text-align: right;\">\n",
       "      <th></th>\n",
       "      <th>JobTitle</th>\n",
       "      <th>JobTitleShort</th>\n",
       "      <th>JobDescription</th>\n",
       "      <th>Url</th>\n",
       "    </tr>\n",
       "  </thead>\n",
       "  <tbody>\n",
       "    <tr>\n",
       "      <th>0</th>\n",
       "      <td>Computational Biologist - Portland, OR</td>\n",
       "      <td>Computational Biologist</td>\n",
       "      <td>Bachelor’s Degree with major courses in field ...</td>\n",
       "      <td>f96b5907888ed2fd.html</td>\n",
       "    </tr>\n",
       "    <tr>\n",
       "      <th>1</th>\n",
       "      <td>Data Scientist - Austin, TX</td>\n",
       "      <td>Data Scientist</td>\n",
       "      <td>Proven experience of 8+ years as a Machine Lea...</td>\n",
       "      <td>98545ca0ce17b6ab.html</td>\n",
       "    </tr>\n",
       "    <tr>\n",
       "      <th>2</th>\n",
       "      <td>Data Science Intern - New York, NY</td>\n",
       "      <td>Data Science Intern</td>\n",
       "      <td>Be a part of the data science team to produce ...</td>\n",
       "      <td>188be042a58efa2c.html</td>\n",
       "    </tr>\n",
       "    <tr>\n",
       "      <th>3</th>\n",
       "      <td>ML/Data Science Intern (Summer 2020) - San Fra...</td>\n",
       "      <td>ML/Data Science Intern (Summer 2020)</td>\n",
       "      <td>Achieving data science and software engineerin...</td>\n",
       "      <td>9042480af958a610.html</td>\n",
       "    </tr>\n",
       "    <tr>\n",
       "      <th>4</th>\n",
       "      <td>Data Scientist Intern, PhD, 2020 - Los Angeles...</td>\n",
       "      <td>Data Scientist Intern, PhD, 2020</td>\n",
       "      <td>Updated resume - please include the relevant g...</td>\n",
       "      <td>f27521da38c0e2c2.html</td>\n",
       "    </tr>\n",
       "    <tr>\n",
       "      <th>5</th>\n",
       "      <td>Data Scientist I - Bend, OR 97701</td>\n",
       "      <td>Data Scientist I</td>\n",
       "      <td>\\nExecute discovery processes of low to averag...</td>\n",
       "      <td>9d30ea1776ad783d.html</td>\n",
       "    </tr>\n",
       "    <tr>\n",
       "      <th>6</th>\n",
       "      <td>2020- Luis J. Alvarez and Admiral Grace M. Hop...</td>\n",
       "      <td>2020</td>\n",
       "      <td>\\nDevelop scientific applications and software...</td>\n",
       "      <td>150653d428f2acf0.html</td>\n",
       "    </tr>\n",
       "    <tr>\n",
       "      <th>7</th>\n",
       "      <td>Principal Data Scientist - White Plains, NY</td>\n",
       "      <td>Principal Data Scientist</td>\n",
       "      <td>A track record of creatively tackling challeng...</td>\n",
       "      <td>dd5dabecd250fd8a.html</td>\n",
       "    </tr>\n",
       "    <tr>\n",
       "      <th>8</th>\n",
       "      <td>Quality Data Scientist, Analytics - San Franci...</td>\n",
       "      <td>Quality Data Scientist, Analytics</td>\n",
       "      <td>Link separate data sources into usable formats...</td>\n",
       "      <td>30af8c722a93ceaf.html</td>\n",
       "    </tr>\n",
       "    <tr>\n",
       "      <th>9</th>\n",
       "      <td>Novice Intelligence Analyst* - Charlottesville...</td>\n",
       "      <td>Novice Intelligence Analyst*</td>\n",
       "      <td>This position requires individuals to be gover...</td>\n",
       "      <td>e240cfa9d039bf89.html</td>\n",
       "    </tr>\n",
       "    <tr>\n",
       "      <th>10</th>\n",
       "      <td>Data Scientist - Seattle, WA</td>\n",
       "      <td>Data Scientist</td>\n",
       "      <td>Bachelor’s or Master’s degree in a quantitativ...</td>\n",
       "      <td>b3b2c39a09777cf3.html</td>\n",
       "    </tr>\n",
       "    <tr>\n",
       "      <th>11</th>\n",
       "      <td>Data Analytics Intern - Los Angeles, CA 90015</td>\n",
       "      <td>Data Analytics Intern</td>\n",
       "      <td>Manipulate, visualize, and analyze large data ...</td>\n",
       "      <td>b02aa271d2af7c26.html</td>\n",
       "    </tr>\n",
       "    <tr>\n",
       "      <th>12</th>\n",
       "      <td>Statistician - San Francisco, CA 94110</td>\n",
       "      <td>Statistician</td>\n",
       "      <td>MS in Statistics or similar quantitative field...</td>\n",
       "      <td>eae6a77e92c0c905.html</td>\n",
       "    </tr>\n",
       "    <tr>\n",
       "      <th>13</th>\n",
       "      <td>Policy and Planning Specialist - Oakland, CA 9...</td>\n",
       "      <td>Policy and Planning Specialist</td>\n",
       "      <td>Policy and Planning Specialist\\n\\nUniversity o...</td>\n",
       "      <td>6ccd517091a6c107.html</td>\n",
       "    </tr>\n",
       "    <tr>\n",
       "      <th>14</th>\n",
       "      <td>Summer 2020 Data Reporting Internship at The W...</td>\n",
       "      <td>Summer 2020 Data Reporting Internship at The W...</td>\n",
       "      <td>LI-JA1-WSJ.</td>\n",
       "      <td>85c5b54cf4fedbb6.html</td>\n",
       "    </tr>\n",
       "    <tr>\n",
       "      <th>15</th>\n",
       "      <td>Geochemistry Postdoctoral Fellow - San Francis...</td>\n",
       "      <td>Geochemistry Postdoctoral Fellow</td>\n",
       "      <td>\\nCo-design, implement, and test machine learn...</td>\n",
       "      <td>2587c9bc6f68857c.html</td>\n",
       "    </tr>\n",
       "    <tr>\n",
       "      <th>16</th>\n",
       "      <td>Computer Vision Scientist - Palo Alto, CA 94306</td>\n",
       "      <td>Computer Vision Scientist</td>\n",
       "      <td>Establish and expand the rigorous statistical ...</td>\n",
       "      <td>a71a563729f2bbdf.html</td>\n",
       "    </tr>\n",
       "    <tr>\n",
       "      <th>17</th>\n",
       "      <td>Data Center Engineer 2 - Sunnyvale - Sunnyvale...</td>\n",
       "      <td>Data Center Engineer 2</td>\n",
       "      <td>Develop reliability block diagrams and perform...</td>\n",
       "      <td>82c6e586c215cf71.html</td>\n",
       "    </tr>\n",
       "    <tr>\n",
       "      <th>18</th>\n",
       "      <td>Sr. Data Scientist - San Francisco, CA 94108</td>\n",
       "      <td>Sr. Data Scientist</td>\n",
       "      <td>Sr. Data Scientist - San Francisco, CA 94108\\n...</td>\n",
       "      <td>37059acb7f05438b.html</td>\n",
       "    </tr>\n",
       "    <tr>\n",
       "      <th>19</th>\n",
       "      <td>Principal Data Scientist - Bellevue, WA 98004</td>\n",
       "      <td>Principal Data Scientist</td>\n",
       "      <td>Build, deploy and optimize machine learning mo...</td>\n",
       "      <td>3e0a3ff1df6a7f70.html</td>\n",
       "    </tr>\n",
       "  </tbody>\n",
       "</table>\n",
       "</div>"
      ],
      "text/plain": [
       "                                             JobTitle  \\\n",
       "0              Computational Biologist - Portland, OR   \n",
       "1                         Data Scientist - Austin, TX   \n",
       "2                  Data Science Intern - New York, NY   \n",
       "3   ML/Data Science Intern (Summer 2020) - San Fra...   \n",
       "4   Data Scientist Intern, PhD, 2020 - Los Angeles...   \n",
       "5                   Data Scientist I - Bend, OR 97701   \n",
       "6   2020- Luis J. Alvarez and Admiral Grace M. Hop...   \n",
       "7         Principal Data Scientist - White Plains, NY   \n",
       "8   Quality Data Scientist, Analytics - San Franci...   \n",
       "9   Novice Intelligence Analyst* - Charlottesville...   \n",
       "10                       Data Scientist - Seattle, WA   \n",
       "11      Data Analytics Intern - Los Angeles, CA 90015   \n",
       "12             Statistician - San Francisco, CA 94110   \n",
       "13  Policy and Planning Specialist - Oakland, CA 9...   \n",
       "14  Summer 2020 Data Reporting Internship at The W...   \n",
       "15  Geochemistry Postdoctoral Fellow - San Francis...   \n",
       "16    Computer Vision Scientist - Palo Alto, CA 94306   \n",
       "17  Data Center Engineer 2 - Sunnyvale - Sunnyvale...   \n",
       "18       Sr. Data Scientist - San Francisco, CA 94108   \n",
       "19      Principal Data Scientist - Bellevue, WA 98004   \n",
       "\n",
       "                                        JobTitleShort  \\\n",
       "0                            Computational Biologist    \n",
       "1                                     Data Scientist    \n",
       "2                                Data Science Intern    \n",
       "3               ML/Data Science Intern (Summer 2020)    \n",
       "4                   Data Scientist Intern, PhD, 2020    \n",
       "5                                   Data Scientist I    \n",
       "6                                                2020   \n",
       "7                           Principal Data Scientist    \n",
       "8                  Quality Data Scientist, Analytics    \n",
       "9                       Novice Intelligence Analyst*    \n",
       "10                                    Data Scientist    \n",
       "11                             Data Analytics Intern    \n",
       "12                                      Statistician    \n",
       "13                    Policy and Planning Specialist    \n",
       "14  Summer 2020 Data Reporting Internship at The W...   \n",
       "15                  Geochemistry Postdoctoral Fellow    \n",
       "16                         Computer Vision Scientist    \n",
       "17                            Data Center Engineer 2    \n",
       "18                                Sr. Data Scientist    \n",
       "19                          Principal Data Scientist    \n",
       "\n",
       "                                       JobDescription                    Url  \n",
       "0   Bachelor’s Degree with major courses in field ...  f96b5907888ed2fd.html  \n",
       "1   Proven experience of 8+ years as a Machine Lea...  98545ca0ce17b6ab.html  \n",
       "2   Be a part of the data science team to produce ...  188be042a58efa2c.html  \n",
       "3   Achieving data science and software engineerin...  9042480af958a610.html  \n",
       "4   Updated resume - please include the relevant g...  f27521da38c0e2c2.html  \n",
       "5   \\nExecute discovery processes of low to averag...  9d30ea1776ad783d.html  \n",
       "6   \\nDevelop scientific applications and software...  150653d428f2acf0.html  \n",
       "7   A track record of creatively tackling challeng...  dd5dabecd250fd8a.html  \n",
       "8   Link separate data sources into usable formats...  30af8c722a93ceaf.html  \n",
       "9   This position requires individuals to be gover...  e240cfa9d039bf89.html  \n",
       "10  Bachelor’s or Master’s degree in a quantitativ...  b3b2c39a09777cf3.html  \n",
       "11  Manipulate, visualize, and analyze large data ...  b02aa271d2af7c26.html  \n",
       "12  MS in Statistics or similar quantitative field...  eae6a77e92c0c905.html  \n",
       "13  Policy and Planning Specialist\\n\\nUniversity o...  6ccd517091a6c107.html  \n",
       "14                                        LI-JA1-WSJ.  85c5b54cf4fedbb6.html  \n",
       "15  \\nCo-design, implement, and test machine learn...  2587c9bc6f68857c.html  \n",
       "16  Establish and expand the rigorous statistical ...  a71a563729f2bbdf.html  \n",
       "17  Develop reliability block diagrams and perform...  82c6e586c215cf71.html  \n",
       "18  Sr. Data Scientist - San Francisco, CA 94108\\n...  37059acb7f05438b.html  \n",
       "19  Build, deploy and optimize machine learning mo...  3e0a3ff1df6a7f70.html  "
      ]
     },
     "execution_count": 7,
     "metadata": {},
     "output_type": "execute_result"
    }
   ],
   "source": [
    "df.head(20)"
   ]
  },
  {
   "cell_type": "code",
   "execution_count": 8,
   "id": "a0cae043",
   "metadata": {},
   "outputs": [
    {
     "data": {
      "text/html": [
       "<div>\n",
       "<style scoped>\n",
       "    .dataframe tbody tr th:only-of-type {\n",
       "        vertical-align: middle;\n",
       "    }\n",
       "\n",
       "    .dataframe tbody tr th {\n",
       "        vertical-align: top;\n",
       "    }\n",
       "\n",
       "    .dataframe thead th {\n",
       "        text-align: right;\n",
       "    }\n",
       "</style>\n",
       "<table border=\"1\" class=\"dataframe\">\n",
       "  <thead>\n",
       "    <tr style=\"text-align: right;\">\n",
       "      <th></th>\n",
       "      <th>JobTitle</th>\n",
       "      <th>JobTitleShort</th>\n",
       "      <th>JobDescription</th>\n",
       "      <th>Url</th>\n",
       "    </tr>\n",
       "  </thead>\n",
       "  <tbody>\n",
       "  </tbody>\n",
       "</table>\n",
       "</div>"
      ],
      "text/plain": [
       "Empty DataFrame\n",
       "Columns: [JobTitle, JobTitleShort, JobDescription, Url]\n",
       "Index: []"
      ]
     },
     "execution_count": 8,
     "metadata": {},
     "output_type": "execute_result"
    }
   ],
   "source": [
    "#Check if you miss to retrieve any relevant data\n",
    "df[(df['JobDescription'] == '') & (df['JobTitleShort'].str.contains('Data',case =False, na = False)) ]"
   ]
  },
  {
   "cell_type": "code",
   "execution_count": 9,
   "id": "2a0c0271",
   "metadata": {},
   "outputs": [
    {
     "name": "stdout",
     "output_type": "stream",
     "text": [
      "<class 'pandas.core.frame.DataFrame'>\n",
      "Int64Index: 1458 entries, 0 to 1457\n",
      "Data columns (total 4 columns):\n",
      " #   Column          Non-Null Count  Dtype \n",
      "---  ------          --------------  ----- \n",
      " 0   JobTitle        1458 non-null   object\n",
      " 1   JobTitleShort   1458 non-null   object\n",
      " 2   JobDescription  1458 non-null   object\n",
      " 3   Url             1458 non-null   object\n",
      "dtypes: object(4)\n",
      "memory usage: 89.2+ KB\n"
     ]
    }
   ],
   "source": [
    "df.info()"
   ]
  },
  {
   "cell_type": "markdown",
   "id": "bd62580a",
   "metadata": {},
   "source": [
    "# Filter Relevant Resumes"
   ]
  },
  {
   "cell_type": "code",
   "execution_count": 10,
   "id": "97e557ae",
   "metadata": {},
   "outputs": [],
   "source": [
    "#Filter out unrelated Data Scientist and Data Engineer roles\n",
    "filter = df['JobTitleShort'].str.contains('Data',case =False, na = False)\n",
    "df_datascience = df[filter]"
   ]
  },
  {
   "cell_type": "code",
   "execution_count": 11,
   "id": "f25ca6b9",
   "metadata": {},
   "outputs": [
    {
     "name": "stdout",
     "output_type": "stream",
     "text": [
      "<class 'pandas.core.frame.DataFrame'>\n",
      "Int64Index: 701 entries, 1 to 1453\n",
      "Data columns (total 4 columns):\n",
      " #   Column          Non-Null Count  Dtype \n",
      "---  ------          --------------  ----- \n",
      " 0   JobTitle        701 non-null    object\n",
      " 1   JobTitleShort   701 non-null    object\n",
      " 2   JobDescription  701 non-null    object\n",
      " 3   Url             701 non-null    object\n",
      "dtypes: object(4)\n",
      "memory usage: 27.4+ KB\n"
     ]
    }
   ],
   "source": [
    "df_datascience.info()"
   ]
  },
  {
   "cell_type": "markdown",
   "id": "66f95dc7",
   "metadata": {},
   "source": [
    "# My Resume"
   ]
  },
  {
   "cell_type": "code",
   "execution_count": 12,
   "id": "fcbb39ae",
   "metadata": {
    "scrolled": true
   },
   "outputs": [],
   "source": [
    "myresume = ''\n",
    "\n",
    "with open('resume.txt') as r:\n",
    "    for line in r:\n",
    "        #print(line.strip())\n",
    "        myresume += str(line.strip()) + '@'\n",
    "\n",
    "#Preprocessing\n",
    "# loop for all characters\n",
    "for character in myresume:\n",
    "    if character.isdigit():\n",
    "        myresume = myresume.replace(character, '')\n",
    "    if character == '.':\n",
    "        myresume = myresume.replace(character, '')\n",
    "        \n",
    "for character in myresume:\n",
    "    if character == '@':\n",
    "        myresume = myresume.replace(character, '.')"
   ]
  },
  {
   "cell_type": "code",
   "execution_count": 13,
   "id": "a9aa2adf",
   "metadata": {},
   "outputs": [],
   "source": [
    "df_myresume = pd.DataFrame()\n",
    "\n",
    "df_myresume.loc[0, 'JobTitle']= 'My Resume - Data Scientist' \n",
    "df_myresume.loc[0, 'JobTitleShort'] = 'Data Scientist'\n",
    "df_myresume.loc[0, 'JobDescription'] = myresume\n",
    "df_myresume.loc[0, 'Url'] = ''"
   ]
  },
  {
   "cell_type": "code",
   "execution_count": 14,
   "id": "722f6a8c",
   "metadata": {},
   "outputs": [
    {
     "name": "stderr",
     "output_type": "stream",
     "text": [
      "/var/folders/34/dtw5gsfs11b7xgjr65xkbrw80000gn/T/ipykernel_2956/2783833451.py:1: FutureWarning: The default value of regex will change from True to False in a future version.\n",
      "  df_myresume['JobDescription'] = df_myresume['JobDescription'].str.replace('Experience.. ','')\n",
      "/var/folders/34/dtw5gsfs11b7xgjr65xkbrw80000gn/T/ipykernel_2956/2783833451.py:2: FutureWarning: The default value of regex will change from True to False in a future version.\n",
      "  df_myresume['JobDescription'] = df_myresume['JobDescription'].str.replace('Additional Skills.. ','')\n"
     ]
    }
   ],
   "source": [
    "df_myresume['JobDescription'] = df_myresume['JobDescription'].str.replace('Experience.. ','')\n",
    "df_myresume['JobDescription'] = df_myresume['JobDescription'].str.replace('Additional Skills.. ','')"
   ]
  },
  {
   "cell_type": "code",
   "execution_count": 15,
   "id": "2d7a658f",
   "metadata": {
    "scrolled": true
   },
   "outputs": [
    {
     "name": "stderr",
     "output_type": "stream",
     "text": [
      "/var/folders/34/dtw5gsfs11b7xgjr65xkbrw80000gn/T/ipykernel_2956/2454391176.py:2: FutureWarning: The frame.append method is deprecated and will be removed from pandas in a future version. Use pandas.concat instead.\n",
      "  df_datascience = df_datascience.append(df_myresume,ignore_index=True)\n"
     ]
    }
   ],
   "source": [
    "#Append My Resume to DataScientist DataFrame\n",
    "df_datascience = df_datascience.append(df_myresume,ignore_index=True)"
   ]
  },
  {
   "cell_type": "code",
   "execution_count": 16,
   "id": "5584a3df",
   "metadata": {},
   "outputs": [],
   "source": [
    "#Unsupervised Topic Modeling"
   ]
  },
  {
   "cell_type": "code",
   "execution_count": 18,
   "id": "5c114215",
   "metadata": {},
   "outputs": [
    {
     "data": {
      "text/plain": [
       "'Proven experience of 8+ years as a Machine Learning Engineer or similar role.Understanding of data structures,data modeling and software architecture.Deep knowledge of math, probability, statistics and algorithms.Ability to write robust code in Java or python.Familiarity with machine learning frameworks (like TensorFlow or PyTorch) and libraries (like scikit-learn).Strong knowledge on big data technologies like Spark, HBase, Kinesis, Redshift, Snowflake, etc.Excellent communication skills.Ability to work in a team.Outstanding analytical and problem-solving skills.Experience in e-learning would be a plus.'"
      ]
     },
     "execution_count": 18,
     "metadata": {},
     "output_type": "execute_result"
    }
   ],
   "source": [
    "docs = df_datascience.JobDescription.tolist()\n",
    "docs[0]"
   ]
  },
  {
   "cell_type": "code",
   "execution_count": 20,
   "id": "7558ec07",
   "metadata": {},
   "outputs": [],
   "source": [
    "from top2vec import Top2Vec"
   ]
  },
  {
   "cell_type": "code",
   "execution_count": 21,
   "id": "3c3a72df",
   "metadata": {},
   "outputs": [
    {
     "name": "stderr",
     "output_type": "stream",
     "text": [
      "2023-04-02 10:19:01,451 - top2vec - INFO - Pre-processing documents for training\n",
      "2023-04-02 10:19:01,868 - top2vec - INFO - Creating joint document/word embedding\n",
      "2023-04-02 10:19:06,013 - top2vec - INFO - Creating lower dimension embedding of documents\n",
      "2023-04-02 10:19:09,906 - top2vec - INFO - Finding dense areas of documents\n",
      "2023-04-02 10:19:09,923 - top2vec - INFO - Finding topics\n"
     ]
    }
   ],
   "source": [
    "model = Top2Vec(docs)"
   ]
  },
  {
   "cell_type": "code",
   "execution_count": 23,
   "id": "5f7f822e",
   "metadata": {},
   "outputs": [
    {
     "name": "stdout",
     "output_type": "stream",
     "text": [
      "[303 228 171]\n"
     ]
    }
   ],
   "source": [
    "topic_sizes,topic_nums = model.get_topic_sizes()\n",
    "print(topic_sizes)"
   ]
  },
  {
   "cell_type": "code",
   "execution_count": 24,
   "id": "b01b84fe",
   "metadata": {},
   "outputs": [
    {
     "name": "stdout",
     "output_type": "stream",
     "text": [
      "[0 1 2]\n"
     ]
    }
   ],
   "source": [
    "print(topic_nums)"
   ]
  },
  {
   "cell_type": "code",
   "execution_count": 25,
   "id": "18548d98",
   "metadata": {},
   "outputs": [],
   "source": [
    "topic_words,word_scores,topic_nums = model.get_topics()"
   ]
  },
  {
   "cell_type": "code",
   "execution_count": 72,
   "id": "0ea391ca",
   "metadata": {},
   "outputs": [
    {
     "name": "stdout",
     "output_type": "stream",
     "text": [
      "0\n",
      "Words: ['java' 'spark' 'python' 'keras' 'scala' 'aws' 'svm' 'libraries'\n",
      " 'tensorflow' 'pytorch' 'ggplot' 'plus' 'learn' 'scikit' 'forest'\n",
      " 'boosting' 'numpy' 'supervised' 'unsupervised' 'nlp' 'matplotlib' 'like'\n",
      " 'pandas' 'linux' 'bayesian' 'means' 'programming' 'hive' 'distributed'\n",
      " 'experience' 'common' 'such' 'computing' 'frameworks' 'big' 'ms'\n",
      " 'excellent' 'scipy' 'ml' 'neural' 'learning' 'practical' 'clustering'\n",
      " 'scripting' 'machine' 'azure' 'random' 'solid' 'highly' 'cloud']\n",
      "1\n",
      "Words: ['the' 'to' 'at' 'be' 'take' 'work' 'all' 'are' 'on' 'for' 'focused' 'do'\n",
      " 'this' 'ability' 'opportunity' 'that' 'life' 'of' 'collaborative' 'and'\n",
      " 'benefits' 'company' 'focus' 'qualifications' 'status' 'help' 'in'\n",
      " 'relationships' 'an' 'your' 'hours' 'independently' 'people' 'well'\n",
      " 'both' 'by' 'our' 'out' 'service' 'group' 'team' 'working' 'time' 'full'\n",
      " 'track' 'travel' 'us' 'communicate' 'have' 'within']\n",
      "2\n",
      "Words: ['quantitative' 'math' 'hypothesis' 'cross' 'statistics' 'sql'\n",
      " 'communicate' 'influence' 'present' 'analysis' 'experience' 'verbal'\n",
      " 'presenting' 'large' 'modeling' 'build' 'degree' 'power' 'proven' 'bs'\n",
      " 'teams' 'tableau' 'problem' 'building' 'visualizations' 'practical'\n",
      " 'stakeholders' 'dashboards' 'business' 'analyzing' 'presentation'\n",
      " 'solving' 'execute' 'years' 'excellent' 'datasets' 'analyses' 'logistic'\n",
      " 'actionable' 'multiple' 'both' 'models' 'ms' 'detail' 'written'\n",
      " 'scripting' 'discipline' 'engineering' 'physics' 'effectively']\n"
     ]
    }
   ],
   "source": [
    "for words,scores,nums in zip(topic_words,word_scores,topic_nums):   \n",
    "        print(nums)\n",
    "        print(f'Words: {words}')    "
   ]
  },
  {
   "cell_type": "code",
   "execution_count": 31,
   "id": "a8613ac0",
   "metadata": {},
   "outputs": [],
   "source": [
    "from wordcloud import WordCloud, STOPWORDS\n",
    "import matplotlib.pyplot as plt"
   ]
  },
  {
   "cell_type": "code",
   "execution_count": 77,
   "id": "2bdeed95",
   "metadata": {},
   "outputs": [
    {
     "data": {
      "image/png": "[encoded data removed]",
      "text/plain": [
       "<Figure size 640x480 with 1 Axes>"
      ]
     },
     "metadata": {},
     "output_type": "display_data"
    }
   ],
   "source": [
    "# Generate a word cloud image\n",
    "wordcloud = WordCloud(stopwords=STOPWORDS).generate(' '.join(topic_words[0].tolist())) # Use only first cluster\n",
    "plt.figure()\n",
    "plt.imshow(wordcloud, interpolation=\"bilinear\")\n",
    "plt.axis(\"off\")\n",
    "plt.show()"
   ]
  },
  {
   "cell_type": "markdown",
   "id": "036aa1c2",
   "metadata": {},
   "source": [
    "# Extra: Recommend Me Job Positions Similar to My Resume"
   ]
  },
  {
   "cell_type": "code",
   "execution_count": 343,
   "id": "94eae5dc",
   "metadata": {},
   "outputs": [],
   "source": [
    "from sklearn.feature_extraction.text import TfidfVectorizer\n",
    "from sklearn.metrics.pairwise import cosine_similarity\n",
    "from sklearn.decomposition import TruncatedSVD"
   ]
  },
  {
   "cell_type": "code",
   "execution_count": 344,
   "id": "759b9380",
   "metadata": {},
   "outputs": [],
   "source": [
    "vectorizer = TfidfVectorizer(stop_words='english')\n",
    "\n",
    "tfidf_vector1 = vectorizer.fit_transform(df_datascience['JobDescription'])"
   ]
  },
  {
   "cell_type": "code",
   "execution_count": 345,
   "id": "76f83870",
   "metadata": {},
   "outputs": [
    {
     "name": "stdout",
     "output_type": "stream",
     "text": [
      "pairwise dense output:\n",
      " [[1.         0.19915624 0.09140741 ... 0.12070119 0.05032085 0.05974387]\n",
      " [0.19915624 1.         0.12800297 ... 0.15401723 0.08486332 0.06790959]\n",
      " [0.09140741 0.12800297 1.         ... 0.1264466  0.08944114 0.011959  ]\n",
      " ...\n",
      " [0.12070119 0.15401723 0.1264466  ... 1.         0.13059726 0.05924166]\n",
      " [0.05032085 0.08486332 0.08944114 ... 0.13059726 1.         0.01803103]\n",
      " [0.05974387 0.06790959 0.011959   ... 0.05924166 0.01803103 1.        ]]\n",
      "\n"
     ]
    }
   ],
   "source": [
    "#Calculate cosimilarity\n",
    "\n",
    "similarities = cosine_similarity(tfidf_vector1,tfidf_vector1)\n",
    "print('pairwise dense output:\\n {}\\n'.format(similarities))"
   ]
  },
  {
   "cell_type": "code",
   "execution_count": 349,
   "id": "39c125a1",
   "metadata": {},
   "outputs": [],
   "source": [
    "# Generate mapping between titles and index and drop duplicate data\n",
    "indices = pd.Series(df_datascience.index, index=df_datascience['JobTitle']).drop_duplicates()\n",
    "\n",
    "def get_recommendations(jobtitle, cosine_sim, indices):\n",
    "    # Get index of job title that matches title\n",
    "    idx = indices[jobtitle]\n",
    "    # Sort the jobs based on the similarity scores\n",
    "    sim_scores = list(enumerate(cosine_sim[idx]))\n",
    "    sim_scores = sorted(sim_scores, key=lambda x: x[1], reverse=True)\n",
    "    # Get the scores for 10 most similar jobs\n",
    "    sim_scores = sim_scores[1:11]\n",
    "    # Get the job indices\n",
    "    job_indices = [i[0] for i in sim_scores]\n",
    "    # Return the top 10 most similar jobs\n",
    "    return df_datascience['JobTitle'].iloc[job_indices]"
   ]
  },
  {
   "cell_type": "code",
   "execution_count": 351,
   "id": "3202b69c",
   "metadata": {},
   "outputs": [
    {
     "name": "stdout",
     "output_type": "stream",
     "text": [
      "663           Data Scientist (PhD) - Intern - Spring, TX\n",
      "170    Data Science Intern (BS / MS) - Intern - Sprin...\n",
      "539                         Data Scientist - Seattle, WA\n",
      "109      Associate Data Scientist (BS / MS) - Spring, TX\n",
      "232                    Data Scientist (PhD) - Spring, TX\n",
      "33           Physics Data Scientist - Foothill Ranch, CA\n",
      "310          Physics Data Scientist - Foothill Ranch, CA\n",
      "427               Data Scientist - Aliso Viejo, CA 92656\n",
      "677                     Data Scientist - Aliso Viejo, CA\n",
      "182                  Data Scientist - New York, NY 10011\n",
      "Name: JobTitle, dtype: object\n"
     ]
    }
   ],
   "source": [
    "# Generate recommendations\n",
    "print(get_recommendations('My Resume - Data Scientist', similarities, indices))"
   ]
  },
  {
   "cell_type": "code",
   "execution_count": null,
   "id": "69e422bc",
   "metadata": {},
   "outputs": [],
   "source": []
  }
 ],
 "metadata": {
  "kernelspec": {
   "display_name": "Python 3 (ipykernel)",
   "language": "python",
   "name": "python3"
  },
  "language_info": {
   "codemirror_mode": {
    "name": "ipython",
    "version": 3
   },
   "file_extension": ".py",
   "mimetype": "text/x-python",
   "name": "python",
   "nbconvert_exporter": "python",
   "pygments_lexer": "ipython3",
   "version": "3.9.13"
  }
 },
 "nbformat": 4,
 "nbformat_minor": 5
}
